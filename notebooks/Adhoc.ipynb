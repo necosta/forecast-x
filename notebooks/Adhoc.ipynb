{
 "cells": [
  {
   "cell_type": "code",
   "execution_count": 1,
   "metadata": {},
   "outputs": [
    {
     "data": {
      "text/plain": [
       "ds = [tourneyid: string, tourneyname: string ... 47 more fields]\n"
      ]
     },
     "metadata": {},
     "output_type": "display_data"
    },
    {
     "data": {
      "text/plain": [
       "[tourneyid: string, tourneyname: string ... 47 more fields]"
      ]
     },
     "execution_count": 1,
     "metadata": {},
     "output_type": "execute_result"
    }
   ],
   "source": [
    "val ds = spark.read.parquet(\"/home/forecastx/work/output.parquet/\")"
   ]
  },
  {
   "cell_type": "code",
   "execution_count": 2,
   "metadata": {},
   "outputs": [
    {
     "data": {
      "text/plain": [
       "31358"
      ]
     },
     "execution_count": 2,
     "metadata": {},
     "output_type": "execute_result"
    }
   ],
   "source": [
    "ds.count"
   ]
  },
  {
   "cell_type": "code",
   "execution_count": 18,
   "metadata": {},
   "outputs": [
    {
     "name": "stdout",
     "output_type": "stream",
     "text": [
      "+-----------+--------+--------------------+--------------+--------------------+--------------+\n",
      "|tourneyDate|matchNum|         tourneyName|    winnerName|           loserName|         score|\n",
      "+-----------+--------+--------------------+--------------+--------------------+--------------+\n",
      "|   20180521|     278|                Lyon|Filip Horansky|          Joao Sousa|   6-4 3-6 6-4|\n",
      "|   20180430|     300|             Estoril|    Joao Sousa|      Francis Tiafoe|       6-4 6-4|\n",
      "|   20180430|     299|             Estoril|    Joao Sousa|  Stefanos Tsitsipas|6-4 1-6 7-6(4)|\n",
      "|   20180430|     296|             Estoril|    Joao Sousa|         Kyle Edmund|   6-3 1-6 6-0|\n",
      "|   20180430|     290|             Estoril|    Joao Sousa|         Pedro Sousa|4-6 7-6(1) 7-5|\n",
      "|   20180430|     278|             Estoril|    Joao Sousa|     Daniil Medvedev|    7-6(1) 7-5|\n",
      "|   20180423|     247|           Barcelona|   Jaume Munar|          Joao Sousa|   6-4 3-6 7-5|\n",
      "|   20180409|     299|           Marrakech| Pablo Andujar|          Joao Sousa|       6-4 6-4|\n",
      "|   20180409|     296|           Marrakech|    Joao Sousa|Nikoloz Basilashvili|   6-2 4-6 6-1|\n",
      "|   20180409|     290|           Marrakech|    Joao Sousa|         Mirza Basic|   6-3 3-6 6-4|\n",
      "|   20180409|     279|           Marrakech|    Joao Sousa|Pedro Martinez Po...|       7-5 7-5|\n",
      "|   20180406|       4|Davis Cup G1 R2: ...|    Joao Sousa|          Elias Ymer|       6-4 6-4|\n",
      "|   20180406|       1|Davis Cup G1 R2: ...|    Joao Sousa|         Mikael Ymer|       6-4 6-4|\n",
      "|   20180319|     287|       Miami Masters|   Hyeon Chung|          Joao Sousa|       6-4 6-3|\n",
      "|   20180319|     273|       Miami Masters|    Joao Sousa|     Jared Donaldson|   1-6 6-3 6-4|\n",
      "|   20180319|     245|       Miami Masters|    Joao Sousa|        David Goffin|       6-0 6-1|\n",
      "|   20180319|     188|       Miami Masters|    Joao Sousa|       Ryan Harrison| 7-6(4) 7-6(4)|\n",
      "|   20180305|     274|Indian Wells Masters|  Milos Raonic|          Joao Sousa|   7-5 4-6 6-2|\n",
      "|   20180305|     246|Indian Wells Masters|    Joao Sousa|    Alexander Zverev|   7-5 5-7 6-4|\n",
      "|   20180305|     191|Indian Wells Masters|    Joao Sousa|     Mikhail Youzhny|4-6 6-4 7-6(4)|\n",
      "+-----------+--------+--------------------+--------------+--------------------+--------------+\n",
      "only showing top 20 rows\n",
      "\n"
     ]
    },
    {
     "data": {
      "text/plain": [
       "playerName = Joao Sousa\n"
      ]
     },
     "metadata": {},
     "output_type": "display_data"
    },
    {
     "data": {
      "text/plain": [
       "Joao Sousa"
      ]
     },
     "execution_count": 18,
     "metadata": {},
     "output_type": "execute_result"
    }
   ],
   "source": [
    "import org.apache.spark.sql.functions._\n",
    "val playerName = \"Joao Sousa\"\n",
    "ds.filter($\"winnerName\" === playerName or $\"loserName\" === playerName)\n",
    ".select($\"tourneyDate\", $\"matchNum\",$\"tourneyName\", $\"winnerName\", $\"loserName\", $\"score\").orderBy(desc(\"tourneyDate\"), desc(\"matchNum\")).show()"
   ]
  },
  {
   "cell_type": "code",
   "execution_count": null,
   "metadata": {},
   "outputs": [],
   "source": []
  }
 ],
 "metadata": {
  "kernelspec": {
   "display_name": "Apache Toree - Scala",
   "language": "scala",
   "name": "apache_toree_scala"
  },
  "language_info": {
   "codemirror_mode": "text/x-scala",
   "file_extension": ".scala",
   "mimetype": "text/x-scala",
   "name": "scala",
   "pygments_lexer": "scala",
   "version": "2.11.8"
  }
 },
 "nbformat": 4,
 "nbformat_minor": 2
}
